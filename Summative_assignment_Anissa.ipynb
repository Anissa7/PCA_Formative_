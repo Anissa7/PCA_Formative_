{
  "cells": [
    {
      "cell_type": "markdown",
      "metadata": {
        "id": "view-in-github",
        "colab_type": "text"
      },
      "source": [
        "<a href=\"https://colab.research.google.com/github/Anissa7/Public_health_risk/blob/master/Summative_assignment_Anissa.ipynb\" target=\"_parent\"><img src=\"https://colab.research.google.com/assets/colab-badge.svg\" alt=\"Open In Colab\"/></a>"
      ]
    },
    {
      "cell_type": "markdown",
      "metadata": {
        "id": "525QhaXBEkpo"
      },
      "source": [
        "### **Data Cleaning**\n",
        "- Removed irrelevant columns (e.g., URLs, metadata) and rows that contained missing values.\n",
        "- Ensured that the \"Value\" column, which contains the health indicator measurements, is numeric for modeling purposes.\n",
        "\n",
        "The cleaned dataset is saved as health_indicators_clean.csv and used for model training."
      ]
    },
    {
      "cell_type": "code",
      "execution_count": 1,
      "metadata": {
        "colab": {
          "base_uri": "https://localhost:8080/"
        },
        "id": "wzH6HzNHx8Yf",
        "outputId": "e6845a47-704e-4732-dae6-71e76b085b4b"
      },
      "outputs": [
        {
          "output_type": "stream",
          "name": "stdout",
          "text": [
            "Missing values in each column:\n",
            " GHO (CODE)              0\n",
            "GHO (DISPLAY)           0\n",
            "GHO (URL)               0\n",
            "YEAR (DISPLAY)          1\n",
            "STARTYEAR               1\n",
            "ENDYEAR                 1\n",
            "REGION (CODE)           1\n",
            "REGION (DISPLAY)        1\n",
            "COUNTRY (CODE)          1\n",
            "COUNTRY (DISPLAY)       1\n",
            "DIMENSION (TYPE)     1667\n",
            "DIMENSION (CODE)     1667\n",
            "DIMENSION (NAME)     1685\n",
            "Numeric               773\n",
            "Value                  20\n",
            "Low                  3097\n",
            "High                 3097\n",
            "dtype: int64\n",
            "Data types:\n",
            " GHO (CODE)           object\n",
            "GHO (DISPLAY)        object\n",
            "GHO (URL)            object\n",
            "YEAR (DISPLAY)       object\n",
            "STARTYEAR            object\n",
            "ENDYEAR              object\n",
            "REGION (CODE)        object\n",
            "REGION (DISPLAY)     object\n",
            "COUNTRY (CODE)       object\n",
            "COUNTRY (DISPLAY)    object\n",
            "DIMENSION (TYPE)     object\n",
            "DIMENSION (CODE)     object\n",
            "DIMENSION (NAME)     object\n",
            "Numeric              object\n",
            "Value                object\n",
            "Low                  object\n",
            "High                 object\n",
            "dtype: object\n"
          ]
        },
        {
          "output_type": "stream",
          "name": "stderr",
          "text": [
            "<ipython-input-1-15c19c0c966c>:25: SettingWithCopyWarning: \n",
            "A value is trying to be set on a copy of a slice from a DataFrame.\n",
            "Try using .loc[row_indexer,col_indexer] = value instead\n",
            "\n",
            "See the caveats in the documentation: https://pandas.pydata.org/pandas-docs/stable/user_guide/indexing.html#returning-a-view-versus-a-copy\n",
            "  data_clean['YEAR (DISPLAY)'] = pd.to_numeric(data_clean['YEAR (DISPLAY)'], errors='coerce')\n"
          ]
        }
      ],
      "source": [
        "# data_cleaning.ipynb\n",
        "\n",
        "# Import necessary libraries\n",
        "import pandas as pd\n",
        "import numpy as np\n",
        "\n",
        "# Load the raw dataset\n",
        "data = pd.read_csv('health_indicators_bfa.csv')\n",
        "\n",
        "# Display the first few rows to inspect the dataset\n",
        "data.head()\n",
        "\n",
        "# Step 1: Check for missing values\n",
        "missing_values = data.isnull().sum()\n",
        "print(\"Missing values in each column:\\n\", missing_values)\n",
        "\n",
        "# If there are missing values, decide how to handle them: drop or impute\n",
        "# Example: Drop rows with missing values (or we can impute)\n",
        "data_clean = data.dropna()  # Alternatively, we could use data.fillna() to impute missing values\n",
        "\n",
        "# Step 2: Check data types and convert if necessary\n",
        "print(\"Data types:\\n\", data_clean.dtypes)\n",
        "\n",
        "# Convert columns to appropriate types if necessary (e.g., converting year to numeric)\n",
        "data_clean['YEAR (DISPLAY)'] = pd.to_numeric(data_clean['YEAR (DISPLAY)'], errors='coerce')\n",
        "\n",
        "# Step 3: Remove duplicates\n",
        "data_clean = data_clean.drop_duplicates()\n",
        "\n",
        "# Step 4: Normalize features if needed (for model training)\n",
        "from sklearn.preprocessing import StandardScaler\n",
        "\n",
        "# Extracting only the numerical columns\n",
        "numerical_cols = data_clean.select_dtypes(include=[np.number]).columns\n",
        "scaler = StandardScaler()\n",
        "\n",
        "# Scaling the numerical features\n",
        "data_clean[numerical_cols] = scaler.fit_transform(data_clean[numerical_cols])\n",
        "\n",
        "# Optional: Save the cleaned and scaled dataset for later use\n",
        "data_clean.to_csv('health_indicators_clean.csv', index=False)\n"
      ]
    },
    {
      "cell_type": "code",
      "execution_count": null,
      "metadata": {
        "colab": {
          "base_uri": "https://localhost:8080/",
          "height": 34
        },
        "collapsed": true,
        "id": "zyMQCjgFDKuy",
        "outputId": "74ce8de9-972c-4ff2-e855-d002d46731b9"
      },
      "outputs": [
        {
          "data": {
            "application/javascript": [
              "\n",
              "    async function download(id, filename, size) {\n",
              "      if (!google.colab.kernel.accessAllowed) {\n",
              "        return;\n",
              "      }\n",
              "      const div = document.createElement('div');\n",
              "      const label = document.createElement('label');\n",
              "      label.textContent = `Downloading \"${filename}\": `;\n",
              "      div.appendChild(label);\n",
              "      const progress = document.createElement('progress');\n",
              "      progress.max = size;\n",
              "      div.appendChild(progress);\n",
              "      document.body.appendChild(div);\n",
              "\n",
              "      const buffers = [];\n",
              "      let downloaded = 0;\n",
              "\n",
              "      const channel = await google.colab.kernel.comms.open(id);\n",
              "      // Send a message to notify the kernel that we're ready.\n",
              "      channel.send({})\n",
              "\n",
              "      for await (const message of channel.messages) {\n",
              "        // Send a message to notify the kernel that we're ready.\n",
              "        channel.send({})\n",
              "        if (message.buffers) {\n",
              "          for (const buffer of message.buffers) {\n",
              "            buffers.push(buffer);\n",
              "            downloaded += buffer.byteLength;\n",
              "            progress.value = downloaded;\n",
              "          }\n",
              "        }\n",
              "      }\n",
              "      const blob = new Blob(buffers, {type: 'application/binary'});\n",
              "      const a = document.createElement('a');\n",
              "      a.href = window.URL.createObjectURL(blob);\n",
              "      a.download = filename;\n",
              "      div.appendChild(a);\n",
              "      a.click();\n",
              "      div.remove();\n",
              "    }\n",
              "  "
            ],
            "text/plain": [
              "<IPython.core.display.Javascript object>"
            ]
          },
          "metadata": {},
          "output_type": "display_data"
        },
        {
          "data": {
            "application/javascript": [
              "download(\"download_e6807339-67a1-4685-8309-8fefc0d3415c\", \"health_indicators_clean.csv\", 5776347)"
            ],
            "text/plain": [
              "<IPython.core.display.Javascript object>"
            ]
          },
          "metadata": {},
          "output_type": "display_data"
        }
      ],
      "source": [
        "from google.colab import files\n",
        "files.download('/content/health_indicators_clean.csv')\n"
      ]
    },
    {
      "cell_type": "markdown",
      "metadata": {
        "id": "ffrz1DFuEekR"
      },
      "source": [
        "## **Machine Learning Models**\n",
        "### **Vanilla Model (Baseline Model)**\n",
        "The first model is a **vanilla machine learning classifier**, which serves as the baseline for this project. It’s a simple model without any optimizations or regularization. This model helps establish the baseline performance of the dataset.\n",
        "\n",
        "- **Model Type**: A basic logistic regression or decision tree classifier.\n",
        "- **Training**: The model is trained without any tuning or advanced techniques.\n",
        "- **Purpose**: The vanilla model is used to compare improvements made by the optimized model."
      ]
    },
    {
      "cell_type": "code",
      "execution_count": 2,
      "metadata": {
        "colab": {
          "base_uri": "https://localhost:8080/"
        },
        "id": "Fl3LBmO6LUc_",
        "outputId": "eebf3e5c-8b0b-4b6c-f978-6c24407479a0"
      },
      "outputs": [
        {
          "output_type": "stream",
          "name": "stdout",
          "text": [
            "Missing values in each column:\n",
            " GHO (CODE)           0\n",
            "GHO (DISPLAY)        0\n",
            "GHO (URL)            0\n",
            "YEAR (DISPLAY)       1\n",
            "STARTYEAR            0\n",
            "ENDYEAR              0\n",
            "REGION (CODE)        0\n",
            "REGION (DISPLAY)     0\n",
            "COUNTRY (CODE)       0\n",
            "COUNTRY (DISPLAY)    0\n",
            "DIMENSION (TYPE)     0\n",
            "DIMENSION (CODE)     0\n",
            "DIMENSION (NAME)     0\n",
            "Numeric              0\n",
            "Value                0\n",
            "Low                  0\n",
            "High                 0\n",
            "dtype: int64\n",
            "Data types after encoding:\n",
            " YEAR (DISPLAY)    float64\n",
            "STARTYEAR_1945       bool\n",
            "STARTYEAR_1946       bool\n",
            "STARTYEAR_1947       bool\n",
            "STARTYEAR_1948       bool\n",
            "                   ...   \n",
            "High_99.8            bool\n",
            "High_99.9            bool\n",
            "High_9918.828        bool\n",
            "High_9930.274        bool\n",
            "High_9958.0          bool\n",
            "Length: 12409, dtype: object\n"
          ]
        },
        {
          "output_type": "stream",
          "name": "stderr",
          "text": [
            "<ipython-input-2-0bcba5a86775>:19: SettingWithCopyWarning: \n",
            "A value is trying to be set on a copy of a slice from a DataFrame.\n",
            "Try using .loc[row_indexer,col_indexer] = value instead\n",
            "\n",
            "See the caveats in the documentation: https://pandas.pydata.org/pandas-docs/stable/user_guide/indexing.html#returning-a-view-versus-a-copy\n",
            "  data_clean['YEAR (DISPLAY)'] = pd.to_numeric(data_clean['YEAR (DISPLAY)'], errors='coerce')\n"
          ]
        }
      ],
      "source": [
        "# data_preprocessing.ipynb\n",
        "\n",
        "# Import necessary libraries\n",
        "import pandas as pd\n",
        "from sklearn.model_selection import train_test_split\n",
        "from sklearn.preprocessing import StandardScaler\n",
        "\n",
        "# Load the cleaned dataset\n",
        "data = pd.read_csv('health_indicators_clean.csv')\n",
        "\n",
        "# Check for missing values\n",
        "missing_values = data.isnull().sum()\n",
        "print(\"Missing values in each column:\\n\", missing_values)\n",
        "\n",
        "# Remove missing values (if any)\n",
        "data_clean = data.dropna()\n",
        "\n",
        "# Convert 'YEAR (DISPLAY)' to numeric if not already\n",
        "data_clean['YEAR (DISPLAY)'] = pd.to_numeric(data_clean['YEAR (DISPLAY)'], errors='coerce')\n",
        "\n",
        "# List columns to drop that are non-numeric or not suitable for scaling\n",
        "columns_to_drop = ['Value', 'GHO (CODE)', 'GHO (DISPLAY)', 'GHO (URL)']\n",
        "if 'SpatialDimValueCode' in data_clean.columns:\n",
        "    columns_to_drop.append('SpatialDimValueCode')\n",
        "\n",
        "# Define features (X) and target (y)\n",
        "X = data_clean.drop(columns_to_drop, axis=1)\n",
        "y = data_clean['Value']  # Target: The 'Value' column\n",
        "\n",
        "# Perform one-hot encoding for any remaining categorical columns\n",
        "categorical_cols = X.select_dtypes(include=['object']).columns\n",
        "X = pd.get_dummies(X, columns=categorical_cols)\n",
        "\n",
        "# Verify that all columns are now numeric\n",
        "print(\"Data types after encoding:\\n\", X.dtypes)\n",
        "\n",
        "# Perform train-test split\n",
        "X_train, X_test, y_train, y_test = train_test_split(X, y, test_size=0.2, random_state=42)\n",
        "\n",
        "# Standardize the features\n",
        "scaler = StandardScaler()\n",
        "X_train_scaled = scaler.fit_transform(X_train)\n",
        "X_test_scaled = scaler.transform(X_test)\n",
        "\n",
        "# Save the processed data\n",
        "X_train_scaled_df = pd.DataFrame(X_train_scaled, columns=X.columns)\n",
        "X_test_scaled_df = pd.DataFrame(X_test_scaled, columns=X.columns)\n",
        "X_train_scaled_df.to_csv('X_train_scaled.csv', index=False)\n",
        "X_test_scaled_df.to_csv('X_test_scaled.csv', index=False)\n",
        "y_train.to_csv('y_train.csv', index=False)\n",
        "y_test.to_csv('y_test.csv', index=False)\n"
      ]
    },
    {
      "cell_type": "code",
      "execution_count": null,
      "metadata": {
        "id": "6zZmFAc-MxqW"
      },
      "outputs": [],
      "source": [
        "# vanilla_model_training.ipynb\n",
        "\n",
        "# Import necessary libraries\n",
        "import pandas as pd\n",
        "from sklearn.linear_model import LogisticRegression\n",
        "from sklearn.metrics import classification_report, confusion_matrix\n",
        "import joblib\n",
        "\n",
        "# Load the preprocessed and scaled training and test datasets\n",
        "X_train = pd.read_csv('X_train_scaled.csv')\n",
        "X_test = pd.read_csv('X_test_scaled.csv')\n",
        "y_train = pd.read_csv('y_train.csv')\n",
        "y_test = pd.read_csv('y_test.csv')\n",
        "\n",
        "# Initialize the vanilla model (Logistic Regression)\n",
        "vanilla_model = LogisticRegression()\n",
        "\n",
        "# Train the model on the training data\n",
        "vanilla_model.fit(X_train, y_train.values.ravel())\n",
        "\n",
        "# Make predictions on the test set\n",
        "y_pred = vanilla_model.predict(X_test)\n",
        "\n",
        "# Evaluate the model\n",
        "print(\"Classification Report:\\n\", classification_report(y_test, y_pred))\n",
        "print(\"Confusion Matrix:\\n\", confusion_matrix(y_test, y_pred))\n",
        "\n",
        "# Save the trained model\n",
        "joblib.dump(vanilla_model, 'vanilla_model.pkl')\n"
      ]
    },
    {
      "cell_type": "code",
      "execution_count": null,
      "metadata": {
        "id": "B63ZMkMnO7Lu"
      },
      "outputs": [],
      "source": []
    }
  ],
  "metadata": {
    "colab": {
      "gpuType": "T4",
      "provenance": [],
      "authorship_tag": "ABX9TyMw5lgKGOO4ZsOKrRsEttSv",
      "include_colab_link": true
    },
    "kernelspec": {
      "display_name": "Python 3",
      "name": "python3"
    },
    "language_info": {
      "name": "python"
    }
  },
  "nbformat": 4,
  "nbformat_minor": 0
}