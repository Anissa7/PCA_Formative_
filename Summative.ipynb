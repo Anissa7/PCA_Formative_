{
  "nbformat": 4,
  "nbformat_minor": 0,
  "metadata": {
    "colab": {
      "provenance": []
    },
    "kernelspec": {
      "name": "python3",
      "display_name": "Python 3"
    },
    "language_info": {
      "name": "python"
    }
  },
  "cells": [
    {
      "source": [
        "import pandas as pd\n",
        "import os\n",
        "\n",
        "# Check if the file exists\n",
        "file_path = 'health_indicators_bfa.csv'\n",
        "if os.path.exists(file_path):\n",
        "    data = pd.read_csv(file_path)\n",
        "    print(data.columns)\n",
        "    print(data.info())\n",
        "else:\n",
        "    print(f\"Error: File not found at {file_path}\")\n",
        "    # You can implement actions to address missing data here\n",
        "    # e.g. provide data location information or download to the location\n"
      ],
      "cell_type": "code",
      "metadata": {
        "colab": {
          "base_uri": "https://localhost:8080/"
        },
        "collapsed": true,
        "id": "oBNFUdlsWAc4",
        "outputId": "6b703f72-4d65-45f2-e156-4a1cd3eea0cf"
      },
      "execution_count": 1,
      "outputs": [
        {
          "output_type": "stream",
          "name": "stdout",
          "text": [
            "Error: File not found at health_indicators_bfa.csv\n"
          ]
        }
      ]
    },
    {
      "cell_type": "markdown",
      "source": [],
      "metadata": {
        "id": "H_wRJNTbWMTw"
      }
    },
    {
      "source": [
        "import pandas as pd\n",
        "import os\n",
        "\n",
        "# Check if the file exists\n",
        "file_path = 'health_indicators_bfa.csv'\n",
        "if os.path.exists(file_path):\n",
        "    data = pd.read_csv(file_path)\n",
        "    print(data.columns)\n",
        "    print(data.info())\n",
        "\n",
        "    # Impute missing values directly after reading the data\n",
        "    # Select only numeric columns for imputation\n",
        "    numeric_cols = data.select_dtypes(include=['number']).columns\n",
        "    data[numeric_cols] = data[numeric_cols].fillna(data[numeric_cols].mean())\n",
        "\n",
        "else:\n",
        "    print(f\"Error: File not found at {file_path}\")\n",
        "    # You can implement actions to address missing data here\n",
        "    # e.g. provide data location information or download to the location"
      ],
      "cell_type": "code",
      "metadata": {
        "colab": {
          "base_uri": "https://localhost:8080/"
        },
        "collapsed": true,
        "id": "yrf-yhv8ftY3",
        "outputId": "58c5b874-a1b9-4116-f501-2a00d963513d"
      },
      "execution_count": 2,
      "outputs": [
        {
          "output_type": "stream",
          "name": "stdout",
          "text": [
            "Error: File not found at health_indicators_bfa.csv\n"
          ]
        }
      ]
    },
    {
      "cell_type": "markdown",
      "source": [
        "Model Implementation"
      ],
      "metadata": {
        "id": "cpiqShzRWThG"
      }
    },
    {
      "source": [
        "import pandas as pd\n",
        "import os\n",
        "\n",
        "# Define the target column\n",
        "target_column = 'DIMENSION (TYPE)'  # Replace with the actual target column name in your data\n",
        "\n",
        "# Check if the file exists\n",
        "file_path = 'health_indicators_bfa.csv'\n",
        "if os.path.exists(file_path):\n",
        "    data = pd.read_csv(file_path)\n",
        "    print(data.columns)  # Verify the column names\n",
        "    print(data.info())\n",
        "\n",
        "    # Strip any leading/trailing spaces in column names\n",
        "    data.columns = data.columns.str.strip()\n",
        "\n",
        "    # Check if the target column exists\n",
        "    if target_column in data.columns:\n",
        "        # Impute missing values directly after reading the data\n",
        "        # Convert numeric columns to the correct data type before calculating the mean\n",
        "        for col in data.select_dtypes(include=['number']).columns:\n",
        "            # Attempt to convert to numeric, errors='coerce' to handle invalid parsing\n",
        "            data[col] = pd.to_numeric(data[col], errors='coerce')\n",
        "\n",
        "        # Calculate mean only for numeric columns to avoid errors with object columns\n",
        "        numeric_data = data.select_dtypes(include=['number'])\n",
        "        data.fillna(numeric_data.mean(), inplace=True)  # Impute with mean of numeric columns\n",
        "\n",
        "        # Feature/Target split\n",
        "        X = data.drop(target_column, axis=1)  # Drop the target column from features\n",
        "        y = data[target_column]  # Use the target column as the target variable\n",
        "    else:\n",
        "        print(f\"Error: Target column '{target_column}' not found in the dataset.\")\n",
        "\n",
        "else:\n",
        "    print(f\"Error: File not found at {file_path}\")\n"
      ],
      "cell_type": "code",
      "metadata": {
        "colab": {
          "base_uri": "https://localhost:8080/"
        },
        "collapsed": true,
        "id": "b00lTrj5iByj",
        "outputId": "31b93d69-3c42-489d-e1a3-1c77e22ac880"
      },
      "execution_count": 3,
      "outputs": [
        {
          "output_type": "stream",
          "name": "stdout",
          "text": [
            "Error: File not found at health_indicators_bfa.csv\n"
          ]
        }
      ]
    },
    {
      "cell_type": "markdown",
      "source": [
        "Erroor analysis"
      ],
      "metadata": {
        "id": "AsTIWgPIXOR7"
      }
    },
    {
      "source": [
        "import pandas as pd\n",
        "import os\n",
        "from sklearn.model_selection import train_test_split\n",
        "from sklearn.ensemble import RandomForestClassifier\n",
        "from sklearn.linear_model import LogisticRegression\n",
        "from sklearn.metrics import confusion_matrix, classification_report\n",
        "import joblib\n",
        "from sklearn.preprocessing import LabelEncoder # Import LabelEncoder\n",
        "from sklearn.impute import SimpleImputer # Import SimpleImputer\n",
        "\n",
        "# Assuming 'target_column' is your actual target column name\n",
        "target_column = 'DIMENSION (TYPE)'\n",
        "\n",
        "# Check if the file exists\n",
        "file_path = 'health_indicators_bfa.csv'\n",
        "if os.path.exists(file_path):\n",
        "    data = pd.read_csv(file_path)\n",
        "\n",
        "    # Print the column names to debug\n",
        "    print(\"Column names in the dataset:\", data.columns)\n",
        "\n",
        "    # Check if target column exists\n",
        "    if target_column in data.columns:\n",
        "        # Impute missing values directly after reading the data\n",
        "        # Only impute numeric columns\n",
        "        numeric_data = data.select_dtypes(include=['number'])\n",
        "        data[numeric_data.columns] = numeric_data.fillna(numeric_data.mean())\n",
        "\n",
        "        # Convert object columns (like 'NCD_BMI_30C') to numeric using Label Encoding\n",
        "        for col in data.select_dtypes(include=['object']).columns:\n",
        "            le = LabelEncoder()\n",
        "            data[col] = le.fit_transform(data[col].astype(str))\n",
        "        # The code block that should execute if the target column exists should be indented here\n",
        "        # ... (rest of your code)"
      ],
      "cell_type": "code",
      "metadata": {
        "id": "WPwgPW2wyARi"
      },
      "execution_count": 4,
      "outputs": []
    },
    {
      "cell_type": "markdown",
      "source": [
        "Performance Baseline"
      ],
      "metadata": {
        "id": "aMfLfkGKXc4C"
      }
    },
    {
      "source": [
        "import pandas as pd\n",
        "import os\n",
        "from sklearn.model_selection import train_test_split\n",
        "from sklearn.ensemble import RandomForestClassifier\n",
        "from sklearn.metrics import confusion_matrix, classification_report, accuracy_score\n",
        "import joblib\n",
        "from sklearn.linear_model import LogisticRegression\n",
        "\n",
        "# Assuming 'target_column' is your actual target column name\n",
        "target_column = 'DIMENSION (TYPE)'\n",
        "\n",
        "import pandas as pd\n",
        "import os\n",
        "from sklearn.model_selection import train_test_split\n",
        "from sklearn.ensemble import RandomForestClassifier\n",
        "from sklearn.metrics import confusion_matrix, classification_report, accuracy_score\n",
        "import joblib\n",
        "from sklearn.linear_model import LogisticRegression\n",
        "\n",
        "# Assuming 'target_column' is your actual target column name\n",
        "target_column = 'DIMENSION (TYPE)'\n",
        "\n",
        "# Check if the file exists\n",
        "file_path = 'health_indicators_bfa.csv'\n",
        "if os.path.exists(file_path):\n",
        "    df = pd.read_csv(file_path)\n",
        "else:\n",
        "    print(f\"Error: File '{file_path}' not found.\")\n",
        "    # Handle the case where the file is not found appropriately\n",
        "    # For example, exit the script or use a default dataframe\n",
        "    exit()"
      ],
      "cell_type": "code",
      "metadata": {
        "id": "FUqTjbTynxzl",
        "colab": {
          "base_uri": "https://localhost:8080/"
        },
        "outputId": "f624aede-0fcb-4b40-bb73-99f504a82782"
      },
      "execution_count": 5,
      "outputs": [
        {
          "output_type": "stream",
          "name": "stdout",
          "text": [
            "Error: File 'health_indicators_bfa.csv' not found.\n"
          ]
        }
      ]
    },
    {
      "source": [
        "import pandas as pd\n",
        "import os\n",
        "from sklearn.model_selection import train_test_split\n",
        "from sklearn.ensemble import RandomForestClassifier\n",
        "from sklearn.metrics import confusion_matrix, classification_report, accuracy_score\n",
        "import joblib\n",
        "from sklearn.linear_model import LogisticRegression\n",
        "\n",
        "# Define the target column\n",
        "target_column = 'DIMENSION (TYPE)'\n",
        "\n",
        "# Check if the file exists\n",
        "file_path = 'health_indicators_bfa.csv'\n",
        "if os.path.exists(file_path):\n",
        "    df = pd.read_csv(file_path)\n",
        "else:\n",
        "    print(f\"Error: File '{file_path}' not found.\")\n",
        "    exit()\n",
        "\n",
        "# Display the first few rows of the dataframe to understand its structure\n",
        "print(df.head())\n",
        "\n",
        "# Preprocessing step\n",
        "# Assuming 'target_column' is your actual target column name\n",
        "# Select features (excluding target and any non-numeric columns you don't want to include)\n",
        "# Check if the target column exists in the DataFrame\n",
        "if target_column in df.columns:\n",
        "    features = df.drop(columns=[target_column])\n",
        "    # Handle missing data by filling or dropping rows with missing values\n",
        "    features = features.fillna(features.median())  # Filling missing values with median (you can choose another strategy)\n",
        "\n",
        "    # Encode categorical variables if necessary\n",
        "    # If there are categorical features, one-hot encoding is usually a good approach\n",
        "    features = pd.get_dummies(features, drop_first=True)\n",
        "\n",
        "    # Select the target column\n",
        "    target = df[target_column]\n",
        "\n",
        "    # Split the data into training and testing sets\n",
        "    X_train, X_test, y_train, y_test = train_test_split(features, target, test_size=0.2, random_state=42)\n",
        "\n",
        "    # Baseline model (Logistic Regression)\n",
        "    model_baseline = LogisticRegression(max_iter=1000)\n",
        "    model_baseline.fit(X_train, y_train)\n",
        "\n",
        "    # Optimized model (Random Forest)\n",
        "    model_optimized = RandomForestClassifier(n_estimators=100, random_state=42)\n",
        "    model_optimized.fit(X_train, y_train)\n",
        "\n",
        "    # Predictions\n",
        "    y_pred_baseline = model_baseline.predict(X_test)\n",
        "    y_pred_optimized = model_optimized.predict(X_test)\n",
        "\n",
        "    # Evaluate the models\n",
        "    print(\"Logistic Regression Model Evaluation:\")\n",
        "    print(classification_report(y_test, y_pred_baseline))  # Print classification report for Logistic Regression\n",
        "    print(\"\\nRandom Forest Model Evaluation:\")\n",
        "    print(classification_report(y_test, y_pred_optimized))  # Print classification report for Random Forest\n",
        "else:\n",
        "    print(f\"Error: Target column '{target_column}' not found in the DataFrame.\")\n",
        "    # Handle the case where the target column is not found\n",
        "    # For example, exit the script or use a different target column\n",
        "    exit()"
      ],
      "cell_type": "code",
      "metadata": {
        "id": "7JeGaAGWo9NY",
        "colab": {
          "base_uri": "https://localhost:8080/",
          "height": 228
        },
        "outputId": "bb6894e8-59df-472f-8dd8-56c9906b6fcf"
      },
      "execution_count": 6,
      "outputs": [
        {
          "output_type": "stream",
          "name": "stdout",
          "text": [
            "Error: File 'health_indicators_bfa.csv' not found.\n"
          ]
        },
        {
          "output_type": "error",
          "ename": "NameError",
          "evalue": "name 'df' is not defined",
          "traceback": [
            "\u001b[0;31m---------------------------------------------------------------------------\u001b[0m",
            "\u001b[0;31mNameError\u001b[0m                                 Traceback (most recent call last)",
            "\u001b[0;32m<ipython-input-6-52fe0ee559c7>\u001b[0m in \u001b[0;36m<cell line: 21>\u001b[0;34m()\u001b[0m\n\u001b[1;32m     19\u001b[0m \u001b[0;34m\u001b[0m\u001b[0m\n\u001b[1;32m     20\u001b[0m \u001b[0;31m# Display the first few rows of the dataframe to understand its structure\u001b[0m\u001b[0;34m\u001b[0m\u001b[0;34m\u001b[0m\u001b[0m\n\u001b[0;32m---> 21\u001b[0;31m \u001b[0mprint\u001b[0m\u001b[0;34m(\u001b[0m\u001b[0mdf\u001b[0m\u001b[0;34m.\u001b[0m\u001b[0mhead\u001b[0m\u001b[0;34m(\u001b[0m\u001b[0;34m)\u001b[0m\u001b[0;34m)\u001b[0m\u001b[0;34m\u001b[0m\u001b[0;34m\u001b[0m\u001b[0m\n\u001b[0m\u001b[1;32m     22\u001b[0m \u001b[0;34m\u001b[0m\u001b[0m\n\u001b[1;32m     23\u001b[0m \u001b[0;31m# Preprocessing step\u001b[0m\u001b[0;34m\u001b[0m\u001b[0;34m\u001b[0m\u001b[0m\n",
            "\u001b[0;31mNameError\u001b[0m: name 'df' is not defined"
          ]
        }
      ]
    },
    {
      "cell_type": "code",
      "source": [
        "import pandas as pd\n",
        "import os\n",
        "from sklearn.model_selection import train_test_split\n",
        "from sklearn.ensemble import RandomForestClassifier\n",
        "from sklearn.linear_model import LogisticRegression\n",
        "from sklearn.metrics import classification_report\n",
        "import joblib\n",
        "\n",
        "# Define the target column\n",
        "target_column = 'DIMENSION (TYPE)'\n",
        "\n",
        "# Check if the file exists\n",
        "file_path = 'health_indicators_bfa.csv'\n",
        "if os.path.exists(file_path):\n",
        "    df = pd.read_csv(file_path)\n",
        "else:\n",
        "    print(f\"Error: File '{file_path}' not found.\")\n",
        "    exit()\n",
        "\n",
        "# Preprocessing step\n",
        "if target_column in df.columns:\n",
        "    features = df.drop(columns=[target_column])\n",
        "\n",
        "    # Select only numeric features for median imputation\n",
        "    numeric_features = features.select_dtypes(include=['number'])\n",
        "\n",
        "    # Impute missing values with the median of numeric columns only\n",
        "    features[numeric_features.columns] = numeric_features.fillna(numeric_features.median())\n",
        "\n",
        "    # Encode categorical variables (after handling missing values)\n",
        "    features = pd.get_dummies(features, drop_first=True)\n",
        "\n",
        "    # Select the target column\n",
        "    target = df[target_column]\n",
        "\n",
        "    # Split the data into training and testing sets\n",
        "    X_train, X_test, y_train, y_test = train_test_split(features, target, test_size=0.2, random_state=42)\n",
        "\n",
        "    # Baseline model (Logistic Regression)\n",
        "    model_baseline = LogisticRegression(max_iter=1000)\n",
        "    model_baseline.fit(X_train, y_train)\n",
        "import pandas as pd\n",
        "import os\n",
        "from sklearn.model_selection import train_test_split\n",
        "from sklearn.ensemble import RandomForestClassifier\n",
        "from sklearn.linear_model import LogisticRegression\n",
        "from sklearn.metrics import classification_report\n",
        "import joblib\n",
        "\n",
        "# Define the target column\n",
        "target_column = 'DIMENSION (TYPE)'\n",
        "\n",
        "# Check if the file exists\n",
        "file_path = 'health_indicators_bfa.csv'\n",
        "if os.path.exists(file_path):\n",
        "    df = pd.read_csv(file_path)\n",
        "else:\n",
        "    print(f\"Error: File '{file_path}' not found.\")\n",
        "    exit()\n",
        "\n",
        "# Preprocessing step\n",
        "if target_column in df.columns:\n",
        "    features = df.drop(columns=[target_column])\n",
        "\n",
        "    # Select only numeric features for median imputation\n",
        "    numeric_features = features.select_dtypes(include=['number'])\n",
        "\n",
        "    # Impute missing values with the median of numeric columns only\n",
        "    features[numeric_features.columns] = numeric_features.fillna(numeric_features.median())\n",
        "\n",
        "    # Encode categorical variables (after handling missing values)\n",
        "    features = pd.get_dummies(features, drop_first=True)\n",
        "\n",
        "    # Select the target column\n",
        "    target = df[target_column]\n",
        "\n",
        "    # Split the data into training and testing sets\n",
        "    X_train, X_test, y_train, y_test = train_test_split(features, target, test_size=0.2, random_state=42)\n",
        "\n",
        "    # Baseline model (Logistic Regression)\n",
        "    model_baseline = LogisticRegression(max_iter=1000)\n",
        "    model_baseline.fit(X_train, y_train)\n",
        "\n",
        "    # Optimized model (Random Forest)\n",
        "    model_optimized = RandomForestClassifier(n_estimators=100) # Added a value for n_estimators\n",
        "    model_optimized.fit(X_train, y_train)"
      ],
      "metadata": {
        "id": "G2ufVxiTrngH"
      },
      "execution_count": null,
      "outputs": []
    },
    {
      "source": [
        "import pandas as pd\n",
        "import os\n",
        "from sklearn.model_selection import train_test_split\n",
        "from sklearn.ensemble import RandomForestClassifier\n",
        "from sklearn.linear_model import LogisticRegression\n",
        "from sklearn.metrics import classification_report\n",
        "import joblib\n",
        "\n",
        "# Define the target column\n",
        "target_column = 'DIMENSION (TYPE)'\n",
        "\n",
        "# Check if the file exists\n",
        "file_path = 'health_indicators_bfa.csv'\n",
        "if os.path.exists(file_path):\n",
        "    df = pd.read_csv(file_path) # df is defined here\n",
        "else:\n",
        "    print(f\"Error: File '{file_path}' not found.\")\n",
        "    exit()\n",
        "\n",
        "# Preprocessing step\n",
        "if target_column in df.columns:\n",
        "    features = df.drop(columns=[target_column])\n",
        "\n",
        "    # Select only numeric features for median imputation\n",
        "    numeric_features = features.select_dtypes(include=['number'])\n",
        "\n",
        "    # Impute missing values with the median of numeric columns only\n",
        "    features[numeric_features.columns] = numeric_features.fillna(numeric_features.median())\n",
        "\n",
        "    # Encode categorical variables (after handling missing values)\n",
        "    features = pd.get_dummies(features, drop_first=True)\n",
        "\n",
        "    # Select the target column\n",
        "    target = df[target_column]\n",
        "\n",
        "    # Split the data into training and testing sets\n",
        "    X_train, X_test, y_train, y_test = train_test_split(features, target, test_size=0.2, random_state=42)\n",
        "\n",
        "    # Baseline model (Logistic Regression)\n",
        "    model_baseline = LogisticRegression(max_iter=1000)\n",
        "    model_baseline.fit(X_train, y_train)\n",
        "\n",
        "    # Optimized model (Random Forest) - Moved this block inside the 'if' statement\n",
        "    model_optimized = RandomForestClassifier(n_estimators=100)  # Added a value for n_estimators\n",
        "    model_optimized.fit(X_train, y_train)"
      ],
      "cell_type": "code",
      "metadata": {
        "id": "x-GtyCS0Ef9C"
      },
      "execution_count": null,
      "outputs": []
    },
    {
      "cell_type": "code",
      "source": [],
      "metadata": {
        "id": "LCpbQflNBVes"
      },
      "execution_count": null,
      "outputs": []
    },
    {
      "cell_type": "markdown",
      "source": [
        "barre"
      ],
      "metadata": {
        "id": "8s2DLLgUpsfW"
      }
    }
  ]
}