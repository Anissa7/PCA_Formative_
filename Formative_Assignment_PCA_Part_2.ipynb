{
  "nbformat": 4,
  "nbformat_minor": 0,
  "metadata": {
    "colab": {
      "provenance": [],
      "include_colab_link": true
    },
    "kernelspec": {
      "name": "python3",
      "display_name": "Python 3"
    },
    "language_info": {
      "name": "python"
    }
  },
  "cells": [
    {
      "cell_type": "markdown",
      "metadata": {
        "id": "view-in-github",
        "colab_type": "text"
      },
      "source": [
        "<a href=\"https://colab.research.google.com/github/Anissa7/PCA_Formative_/blob/master/Formative_Assignment_PCA_Part_2.ipynb\" target=\"_parent\"><img src=\"https://colab.research.google.com/assets/colab-badge.svg\" alt=\"Open In Colab\"/></a>"
      ]
    },
    {
      "cell_type": "code",
      "source": [
        "import numpy as np\n",
        "\n",
        "# Define the given matrix\n",
        "A = np.array([[4, 8, -1],\n",
        "              [-2, 7, -3],\n",
        "              [0, 10, 5]])\n",
        "\n",
        "# Compute eigenvalues and eigenvectors\n",
        "eigenvalues, eigenvectors = np.linalg.eig(A)\n",
        "\n",
        "# Sort eigenvalues and corresponding eigenvectors in descending order\n",
        "sorted_indices = np.argsort(eigenvalues)[::-1]\n",
        "sorted_eigenvalues = eigenvalues[sorted_indices]\n",
        "sorted_eigenvectors = eigenvectors[:, sorted_indices]\n",
        "\n",
        "# Extract the second and third eigenvalues and corresponding eigenvectors\n",
        "lambda_2 = sorted_eigenvalues[1]\n",
        "vector_2 = sorted_eigenvectors[:, 1]\n",
        "\n",
        "lambda_3 = sorted_eigenvalues[2]\n",
        "vector_3 = sorted_eigenvectors[:, 2]\n",
        "\n",
        "(lambda_2, vector_2), (lambda_3, vector_3)\n"
      ],
      "metadata": {
        "colab": {
          "base_uri": "https://localhost:8080/"
        },
        "id": "pQT9aSsPeSCF",
        "outputId": "042059ef-288a-4068-a5c7-7f403bd5d507"
      },
      "execution_count": 1,
      "outputs": [
        {
          "output_type": "execute_result",
          "data": {
            "text/plain": [
              "((np.complex128(5.612925802274251-6.625796745504055j),\n",
              "  array([-0.51481955+0.17901335j, -0.04278199+0.46247812j,\n",
              "         -0.69799623-0.j        ])),\n",
              " (np.complex128(4.774148395451496+0j),\n",
              "  array([-0.83620261+0.j, -0.01238301+0.j,  0.54828082+0.j])))"
            ]
          },
          "metadata": {},
          "execution_count": 1
        }
      ]
    }
  ]
}